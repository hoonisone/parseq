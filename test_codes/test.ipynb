{
 "cells": [
  {
   "cell_type": "code",
   "execution_count": 1,
   "metadata": {},
   "outputs": [
    {
     "data": {
      "text/plain": [
       "[1, 2, 3, [10], [2]]"
      ]
     },
     "execution_count": 1,
     "metadata": {},
     "output_type": "execute_result"
    }
   ],
   "source": [
    "x = [1, 2, 3]\n",
    "a = [1]\n",
    "b = [2]\n",
    "y = [a, b]\n",
    "x.extend(y)\n",
    "a[0] = 10\n",
    "x\n"
   ]
  },
  {
   "cell_type": "code",
   "execution_count": 2,
   "metadata": {},
   "outputs": [
    {
     "data": {
      "text/plain": [
       "{'a': 1, 'b': 2}"
      ]
     },
     "execution_count": 2,
     "metadata": {},
     "output_type": "execute_result"
    }
   ],
   "source": [
    "x = {\"a\":1, \"b\":2}\n",
    "try:\n",
    "    x.pop(\"c\")\n",
    "except:\n",
    "    pass\n",
    "x"
   ]
  },
  {
   "cell_type": "code",
   "execution_count": 3,
   "metadata": {},
   "outputs": [
    {
     "data": {
      "text/plain": [
       "[10]"
      ]
     },
     "execution_count": 3,
     "metadata": {},
     "output_type": "execute_result"
    }
   ],
   "source": [
    "x = {\"a\":1}\n",
    "x.pop(\"a\")\n",
    "a"
   ]
  },
  {
   "cell_type": "code",
   "execution_count": 4,
   "metadata": {},
   "outputs": [],
   "source": [
    "a = 3"
   ]
  },
  {
   "cell_type": "code",
   "execution_count": 5,
   "metadata": {},
   "outputs": [
    {
     "data": {
      "text/plain": [
       "'a/b/**/data.mdb'"
      ]
     },
     "execution_count": 5,
     "metadata": {},
     "output_type": "execute_result"
    }
   ],
   "source": [
    "from pathlib import Path \n",
    "root = Path(\"./a/b\")\n",
    "str(root / '**/data.mdb')"
   ]
  },
  {
   "cell_type": "code",
   "execution_count": 6,
   "metadata": {},
   "outputs": [
    {
     "name": "stdout",
     "output_type": "stream",
     "text": [
      "/home/MH2/PARSeq/mh_test/*.py\n"
     ]
    },
    {
     "data": {
      "text/plain": [
       "['/home/MH2/PARSeq/mh_test/test.py',\n",
       " '/home/MH2/PARSeq/mh_test/aaaa.py',\n",
       " '/home/MH2/PARSeq/mh_test/aaa/abbb.py']"
      ]
     },
     "execution_count": 6,
     "metadata": {},
     "output_type": "execute_result"
    }
   ],
   "source": [
    "import glob\n",
    "print(str(Path(\".\").absolute()/\"*.py\"))\n",
    "glob.glob(str(Path(\".\").absolute()/\"**/*.py\"), recursive=True)\n",
    "\n"
   ]
  },
  {
   "cell_type": "code",
   "execution_count": 7,
   "metadata": {},
   "outputs": [
    {
     "ename": "ValueError",
     "evalue": "'a/b' is not in the subpath of 'a/b/c' OR one path is relative and the other is absolute.",
     "output_type": "error",
     "traceback": [
      "\u001b[0;31m---------------------------------------------------------------------------\u001b[0m",
      "\u001b[0;31mValueError\u001b[0m                                Traceback (most recent call last)",
      "\u001b[1;32m/home/MH2/PARSeq/mh_test/test.ipynb Cell 7\u001b[0m line \u001b[0;36m3\n\u001b[1;32m      <a href='vscode-notebook-cell://attached-container%2B7b22636f6e7461696e65724e616d65223a222f686f6f6e69736f6e6532222c2273657474696e6773223a7b22686f7374223a227373683a2f2f3137322e32372e3138352e3536227d7d/home/MH2/PARSeq/mh_test/test.ipynb#W6sdnNjb2RlLXJlbW90ZQ%3D%3D?line=0'>1</a>\u001b[0m x \u001b[39m=\u001b[39m Path(\u001b[39m\"\u001b[39m\u001b[39m./a/b/c\u001b[39m\u001b[39m\"\u001b[39m)\n\u001b[1;32m      <a href='vscode-notebook-cell://attached-container%2B7b22636f6e7461696e65724e616d65223a222f686f6f6e69736f6e6532222c2273657474696e6773223a7b22686f7374223a227373683a2f2f3137322e32372e3138352e3536227d7d/home/MH2/PARSeq/mh_test/test.ipynb#W6sdnNjb2RlLXJlbW90ZQ%3D%3D?line=1'>2</a>\u001b[0m y \u001b[39m=\u001b[39m Path(\u001b[39m\"\u001b[39m\u001b[39m./a/b/\u001b[39m\u001b[39m\"\u001b[39m)\n\u001b[0;32m----> <a href='vscode-notebook-cell://attached-container%2B7b22636f6e7461696e65724e616d65223a222f686f6f6e69736f6e6532222c2273657474696e6773223a7b22686f7374223a227373683a2f2f3137322e32372e3138352e3536227d7d/home/MH2/PARSeq/mh_test/test.ipynb#W6sdnNjb2RlLXJlbW90ZQ%3D%3D?line=2'>3</a>\u001b[0m y\u001b[39m.\u001b[39;49mrelative_to(x)\n\u001b[1;32m      <a href='vscode-notebook-cell://attached-container%2B7b22636f6e7461696e65724e616d65223a222f686f6f6e69736f6e6532222c2273657474696e6773223a7b22686f7374223a227373683a2f2f3137322e32372e3138352e3536227d7d/home/MH2/PARSeq/mh_test/test.ipynb#W6sdnNjb2RlLXJlbW90ZQ%3D%3D?line=3'>4</a>\u001b[0m \u001b[39m# x.relative_to(y)\u001b[39;00m\n",
      "File \u001b[0;32m/opt/conda/lib/python3.10/pathlib.py:818\u001b[0m, in \u001b[0;36mPurePath.relative_to\u001b[0;34m(self, *other)\u001b[0m\n\u001b[1;32m    816\u001b[0m \u001b[39mif\u001b[39;00m (root \u001b[39mor\u001b[39;00m drv) \u001b[39mif\u001b[39;00m n \u001b[39m==\u001b[39m \u001b[39m0\u001b[39m \u001b[39melse\u001b[39;00m cf(abs_parts[:n]) \u001b[39m!=\u001b[39m cf(to_abs_parts):\n\u001b[1;32m    817\u001b[0m     formatted \u001b[39m=\u001b[39m \u001b[39mself\u001b[39m\u001b[39m.\u001b[39m_format_parsed_parts(to_drv, to_root, to_parts)\n\u001b[0;32m--> 818\u001b[0m     \u001b[39mraise\u001b[39;00m \u001b[39mValueError\u001b[39;00m(\u001b[39m\"\u001b[39m\u001b[39m{!r}\u001b[39;00m\u001b[39m is not in the subpath of \u001b[39m\u001b[39m{!r}\u001b[39;00m\u001b[39m\"\u001b[39m\n\u001b[1;32m    819\u001b[0m             \u001b[39m\"\u001b[39m\u001b[39m OR one path is relative and the other is absolute.\u001b[39m\u001b[39m\"\u001b[39m\n\u001b[1;32m    820\u001b[0m                      \u001b[39m.\u001b[39mformat(\u001b[39mstr\u001b[39m(\u001b[39mself\u001b[39m), \u001b[39mstr\u001b[39m(formatted)))\n\u001b[1;32m    821\u001b[0m \u001b[39mreturn\u001b[39;00m \u001b[39mself\u001b[39m\u001b[39m.\u001b[39m_from_parsed_parts(\u001b[39m'\u001b[39m\u001b[39m'\u001b[39m, root \u001b[39mif\u001b[39;00m n \u001b[39m==\u001b[39m \u001b[39m1\u001b[39m \u001b[39melse\u001b[39;00m \u001b[39m'\u001b[39m\u001b[39m'\u001b[39m,\n\u001b[1;32m    822\u001b[0m                                abs_parts[n:])\n",
      "\u001b[0;31mValueError\u001b[0m: 'a/b' is not in the subpath of 'a/b/c' OR one path is relative and the other is absolute."
     ]
    }
   ],
   "source": [
    "x = Path(\"./a/b/c\")\n",
    "y = Path(\"./a/b/\")\n",
    "y.relative_to(x)\n",
    "# x.relative_to(y)"
   ]
  },
  {
   "cell_type": "code",
   "execution_count": null,
   "metadata": {},
   "outputs": [
    {
     "data": {
      "text/plain": [
       "19"
      ]
     },
     "execution_count": 9,
     "metadata": {},
     "output_type": "execute_result"
    }
   ],
   "source": [
    "from torch.utils.data import Dataset\n",
    "\n",
    "class DatasetA(Dataset):\n",
    "    def __len__(self):\n",
    "        return 10\n",
    "    \n",
    "    def __getitem__(self, idx):\n",
    "        return idx\n",
    "\n",
    "class DatasetB(Dataset):\n",
    "    def __len__(self):\n",
    "        return 10\n",
    "    \n",
    "    def __getitem__(self, idx):\n",
    "        return idx+10\n",
    "    \n",
    "\n",
    "x = DatasetA() + DatasetB()\n",
    "x.__len__()\n",
    "len(x)\n",
    "\n",
    "x[0]\n",
    "x[1]\n",
    "x[19]"
   ]
  },
  {
   "cell_type": "code",
   "execution_count": null,
   "metadata": {},
   "outputs": [
    {
     "name": "stdout",
     "output_type": "stream",
     "text": [
      "hello 1\n"
     ]
    }
   ],
   "source": [
    "class A:\n",
    "    def __call__(self, x):\n",
    "        print(\"hello\", x)\n",
    "\n",
    "\n",
    "A()(1)"
   ]
  },
  {
   "cell_type": "code",
   "execution_count": null,
   "metadata": {},
   "outputs": [
    {
     "data": {
      "text/plain": [
       "'a@@@@@'"
      ]
     },
     "execution_count": 11,
     "metadata": {},
     "output_type": "execute_result"
    }
   ],
   "source": [
    "import re\n",
    "\n",
    "\n",
    "prog = re.compile(f'[^{re.escape(\"abc\")}]')\n",
    "label = \"asㄴㄴㄴ나\"\n",
    "label = prog.sub(\"@\", label)\n",
    "label"
   ]
  },
  {
   "cell_type": "code",
   "execution_count": null,
   "metadata": {},
   "outputs": [
    {
     "data": {
      "text/plain": [
       "'ab'"
      ]
     },
     "execution_count": 12,
     "metadata": {},
     "output_type": "execute_result"
    }
   ],
   "source": [
    "class CharsetAdapter:\n",
    "    \"\"\"Transforms labels according to the target charset.\"\"\"\n",
    "    \"\"\"\n",
    "    label(사실 임의의 문자열)에 대해 사용하기로 한 문자 외의 것들을 모두 제거해주는 객체\n",
    "    당연히 대상 문자열을 주어야 하고, 대문자만 쓰는지 소문자만 쓰는지고 검사를 해서\n",
    "    예로 소문자만 쓰는 경우 검사 결과 문자열을 먼저 소문자로 바꾼 뒤 검사해줌\n",
    "    한글만 사용한다면 큰 의미는 없을 듯\n",
    "    사용방법은 객체를 직접 호출하는 방식 => 객체.(문자열)\n",
    "    대상이 아닌 문자열을 모두 제거한 깨끗한 문자열 반환\n",
    "    \"\"\"\n",
    "\n",
    "    def __init__(self, target_charset) -> None:\n",
    "        # an example of target_charset => \"0123456789abcdefghijklmnopqrstuvwxyz\"\n",
    "        super().__init__()\n",
    "        self.lowercase_only = target_charset == target_charset.lower() \n",
    "        # 혹시 대상 문자열이 모두 소문자이면 소문자 전용이라 생각\n",
    "        # 추후 검사 대상 문자열을 모두 소문자로 바꾸기 위함\n",
    "        self.uppercase_only = target_charset == target_charset.upper()\n",
    "        # 이것도 마찬가지로 모두 대문자만 사용하는지 검사\n",
    "        self.unsupported = re.compile(f'[^{re.escape(target_charset)}]')\n",
    "        # self.unsupported는 어떤 문자에 대해 지원되지 않는지 여부를 알기 위핸 re 객체\n",
    "        # self.unsupported(문자열)을 넣었을 때 문자열 중 지원되지 않는 문자를 찾을 수 있다.\n",
    "        # 정확한 것은 re의 사용법을 알아야 하겠다. \n",
    "        # 일단 [^abc] 라는 정규표현식은 abc 셋 중 하나로 시작하지 않는 문자를 말한다.\n",
    "        # 그리고 한글자를 의미하기 때문에 글자 단위로 적용된다.\n",
    "\n",
    "    def __call__(self, label):\n",
    "        # 객체에 괄호 치고 인자 넘기며 함수취급했을 때 호출되는 함수\n",
    "        # ex) 인스턴스(x, y,... )\n",
    "        if self.lowercase_only:\n",
    "            label = label.lower()\n",
    "        elif self.uppercase_only:\n",
    "            label = label.upper()\n",
    "        # Remove unsupported characters\n",
    "        label = self.unsupported.sub('', label)\n",
    "        # label에서 제거 대상(unsupported에 검사에서 true가 나오는 것)을 \"\"로 바꾼다.\n",
    "        # 즉 지운다. 그 후 결과를 반환\n",
    "        # 결과적으로 대상이 아닌 문자는 모두 제거 \n",
    "        return label\n",
    "import string\n",
    "CharsetAdapter(string.ascii_letters)(\"한명훈 ab\")\n"
   ]
  },
  {
   "cell_type": "code",
   "execution_count": null,
   "metadata": {},
   "outputs": [
    {
     "ename": "AttributeError",
     "evalue": "__enter__",
     "output_type": "error",
     "traceback": [
      "\u001b[0;31m---------------------------------------------------------------------------\u001b[0m",
      "\u001b[0;31mAttributeError\u001b[0m                            Traceback (most recent call last)",
      "\u001b[1;32m/home/MH2/PARSeq/mh_test/test.ipynb Cell 12\u001b[0m line \u001b[0;36m5\n\u001b[1;32m      <a href='vscode-notebook-cell://attached-container%2B7b22636f6e7461696e65724e616d65223a222f686f6f6e69736f6e6532222c2273657474696e6773223a7b22686f7374223a227373683a2f2f3137322e32372e3138352e3536227d7d/home/MH2/PARSeq/mh_test/test.ipynb#X14sdnNjb2RlLXJlbW90ZQ%3D%3D?line=1'>2</a>\u001b[0m     \u001b[39mdef\u001b[39;00m \u001b[39mget\u001b[39m(\u001b[39mself\u001b[39m):\n\u001b[1;32m      <a href='vscode-notebook-cell://attached-container%2B7b22636f6e7461696e65724e616d65223a222f686f6f6e69736f6e6532222c2273657474696e6773223a7b22686f7374223a227373683a2f2f3137322e32372e3138352e3536227d7d/home/MH2/PARSeq/mh_test/test.ipynb#X14sdnNjb2RlLXJlbW90ZQ%3D%3D?line=2'>3</a>\u001b[0m         \u001b[39mreturn\u001b[39;00m [\u001b[39m1\u001b[39m, \u001b[39m2\u001b[39m, \u001b[39m3\u001b[39m]\n\u001b[0;32m----> <a href='vscode-notebook-cell://attached-container%2B7b22636f6e7461696e65724e616d65223a222f686f6f6e69736f6e6532222c2273657474696e6773223a7b22686f7374223a227373683a2f2f3137322e32372e3138352e3536227d7d/home/MH2/PARSeq/mh_test/test.ipynb#X14sdnNjb2RlLXJlbW90ZQ%3D%3D?line=4'>5</a>\u001b[0m \u001b[39mwith\u001b[39;00m A() \u001b[39mas\u001b[39;00m a:\n\u001b[1;32m      <a href='vscode-notebook-cell://attached-container%2B7b22636f6e7461696e65724e616d65223a222f686f6f6e69736f6e6532222c2273657474696e6773223a7b22686f7374223a227373683a2f2f3137322e32372e3138352e3536227d7d/home/MH2/PARSeq/mh_test/test.ipynb#X14sdnNjb2RlLXJlbW90ZQ%3D%3D?line=5'>6</a>\u001b[0m     a\u001b[39m.\u001b[39mget()\n",
      "\u001b[0;31mAttributeError\u001b[0m: __enter__"
     ]
    }
   ],
   "source": [
    "class A:\n",
    "    def get(self):\n",
    "        return [1, 2, 3]\n",
    "    \n",
    "with A() as a:\n",
    "    a.get()"
   ]
  },
  {
   "cell_type": "code",
   "execution_count": null,
   "metadata": {},
   "outputs": [
    {
     "name": "stdout",
     "output_type": "stream",
     "text": [
      "b'abc'\n"
     ]
    },
    {
     "data": {
      "text/plain": [
       "b'abc'"
      ]
     },
     "execution_count": 65,
     "metadata": {},
     "output_type": "execute_result"
    }
   ],
   "source": [
    "print(\"abc\".encode(\"한utf-8\"))\n",
    "\"abc\".encode(\"한utf-8\").decode('utf-8')\n",
    "\"abc\".encode()"
   ]
  },
  {
   "cell_type": "code",
   "execution_count": null,
   "metadata": {},
   "outputs": [
    {
     "name": "stdout",
     "output_type": "stream",
     "text": [
      "b'\\xed\\x95\\x9cabc'\n"
     ]
    },
    {
     "data": {
      "text/plain": [
       "b'\\xc7\\xd1abc'"
      ]
     },
     "execution_count": 71,
     "metadata": {},
     "output_type": "execute_result"
    }
   ],
   "source": [
    "print(\"한abc\".encode(\"utf-8\"))\n",
    "\"한abc\".encode(\"cp949\")"
   ]
  },
  {
   "cell_type": "code",
   "execution_count": null,
   "metadata": {},
   "outputs": [
    {
     "data": {
      "text/plain": [
       "2"
      ]
     },
     "execution_count": 72,
     "metadata": {},
     "output_type": "execute_result"
    }
   ],
   "source": [
    "a = 1\n",
    "a += 1\n",
    "a"
   ]
  },
  {
   "cell_type": "code",
   "execution_count": null,
   "metadata": {},
   "outputs": [
    {
     "data": {
      "text/plain": [
       "b'09d'"
      ]
     },
     "execution_count": 76,
     "metadata": {},
     "output_type": "execute_result"
    }
   ],
   "source": [
    "\"09d\"\n",
    "\"09d\".encode()"
   ]
  },
  {
   "cell_type": "code",
   "execution_count": null,
   "metadata": {},
   "outputs": [
    {
     "name": "stdout",
     "output_type": "stream",
     "text": [
      "a b c\n",
      "['', ' b c']\n"
     ]
    },
    {
     "data": {
      "text/plain": [
       "'abc'"
      ]
     },
     "execution_count": 83,
     "metadata": {},
     "output_type": "execute_result"
    }
   ],
   "source": [
    "x = \"a b c\"\n",
    "print(x)\n",
    "print(x.split())\n",
    "\"\".join(x.split())\n"
   ]
  },
  {
   "cell_type": "code",
   "execution_count": null,
   "metadata": {},
   "outputs": [
    {
     "data": {
      "text/plain": [
       "'        '"
      ]
     },
     "execution_count": 84,
     "metadata": {},
     "output_type": "execute_result"
    }
   ],
   "source": [
    "\"        \""
   ]
  },
  {
   "cell_type": "code",
   "execution_count": 8,
   "metadata": {},
   "outputs": [
    {
     "data": {
      "text/plain": [
       "'L'"
      ]
     },
     "execution_count": 8,
     "metadata": {},
     "output_type": "execute_result"
    }
   ],
   "source": [
    "import unicodedata\n",
    "\n",
    "value = \"1\"\n",
    "name = unicodedata.name(value) # key\n",
    "unicodedata.lookup(name)\n",
    "unicodedata.bidirectional(value)\n",
    "\n",
    "\n",
    "\n",
    "value = \"한\"\n",
    "name = unicodedata.name(value) # key\n",
    "unicodedata.lookup(name)\n",
    "unicodedata.bidirectional(value)"
   ]
  },
  {
   "cell_type": "code",
   "execution_count": 9,
   "metadata": {},
   "outputs": [
    {
     "name": "stdout",
     "output_type": "stream",
     "text": [
      "value = 한, name = HANGUL SYLLABLE HAN, bidirection = L\n",
      "value = 명, name = HANGUL SYLLABLE MYEONG, bidirection = L\n",
      "value = 훈, name = HANGUL SYLLABLE HUN, bidirection = L\n"
     ]
    }
   ],
   "source": [
    "def unicode_test(value):\n",
    "    name = unicodedata.name(value)\n",
    "    value = unicodedata.lookup(name)\n",
    "    direction = unicodedata.bidirectional(value)\n",
    "    print(f\"value = {value}, name = {name}, bidirection = {direction}\")\n",
    "\n",
    "unicode_test(\"한\")\n",
    "unicode_test(\"명\")\n",
    "unicode_test(\"훈\")"
   ]
  },
  {
   "cell_type": "code",
   "execution_count": 10,
   "metadata": {},
   "outputs": [
    {
     "data": {
      "text/plain": [
       "'0061'"
      ]
     },
     "execution_count": 10,
     "metadata": {},
     "output_type": "execute_result"
    }
   ],
   "source": [
    "\n",
    "str(b\"0061\".decode())"
   ]
  },
  {
   "cell_type": "code",
   "execution_count": 11,
   "metadata": {},
   "outputs": [
    {
     "data": {
      "text/plain": [
       "'/u0394'"
      ]
     },
     "execution_count": 11,
     "metadata": {},
     "output_type": "execute_result"
    }
   ],
   "source": [
    "b\"/u0394\".decode()"
   ]
  },
  {
   "cell_type": "code",
   "execution_count": 12,
   "metadata": {},
   "outputs": [
    {
     "data": {
      "text/plain": [
       "b'\\xed\\x95\\x9c'"
      ]
     },
     "execution_count": 12,
     "metadata": {},
     "output_type": "execute_result"
    }
   ],
   "source": [
    "\"한\".encode()"
   ]
  },
  {
   "cell_type": "code",
   "execution_count": null,
   "metadata": {},
   "outputs": [],
   "source": []
  },
  {
   "cell_type": "code",
   "execution_count": 13,
   "metadata": {},
   "outputs": [
    {
     "data": {
      "text/plain": [
       "'a000000010'"
      ]
     },
     "execution_count": 13,
     "metadata": {},
     "output_type": "execute_result"
    }
   ],
   "source": [
    "f\"a{10:09d}\"\n"
   ]
  },
  {
   "cell_type": "code",
   "execution_count": null,
   "metadata": {},
   "outputs": [],
   "source": [
    "\n"
   ]
  },
  {
   "cell_type": "code",
   "execution_count": 14,
   "metadata": {},
   "outputs": [
    {
     "name": "stdout",
     "output_type": "stream",
     "text": [
      "/home/MH2/PARSeq/mh_test/../dataset/lock.mdb\n",
      "<class 'str'>\n"
     ]
    },
    {
     "ename": "Error",
     "evalue": "/home/MH2/PARSeq/mh_test/../dataset/lock.mdb: Not a directory",
     "output_type": "error",
     "traceback": [
      "\u001b[0;31m---------------------------------------------------------------------------\u001b[0m",
      "\u001b[0;31mError\u001b[0m                                     Traceback (most recent call last)",
      "\u001b[1;32m/home/MH2/PARSeq/mh_test/test.ipynb Cell 27\u001b[0m line \u001b[0;36m1\n\u001b[1;32m      <a href='vscode-notebook-cell://attached-container%2B7b22636f6e7461696e65724e616d65223a222f686f6f6e69736f6e6532222c2273657474696e6773223a7b22686f7374223a227373683a2f2f3137322e32372e3138352e3536227d7d/home/MH2/PARSeq/mh_test/test.ipynb#X35sdnNjb2RlLXJlbW90ZQ%3D%3D?line=7'>8</a>\u001b[0m \u001b[39mprint\u001b[39m(path_list[\u001b[39m0\u001b[39m])\n\u001b[1;32m      <a href='vscode-notebook-cell://attached-container%2B7b22636f6e7461696e65724e616d65223a222f686f6f6e69736f6e6532222c2273657474696e6773223a7b22686f7374223a227373683a2f2f3137322e32372e3138352e3536227d7d/home/MH2/PARSeq/mh_test/test.ipynb#X35sdnNjb2RlLXJlbW90ZQ%3D%3D?line=8'>9</a>\u001b[0m \u001b[39mprint\u001b[39m(\u001b[39mtype\u001b[39m(path_list[\u001b[39m0\u001b[39m]))\n\u001b[0;32m---> <a href='vscode-notebook-cell://attached-container%2B7b22636f6e7461696e65724e616d65223a222f686f6f6e69736f6e6532222c2273657474696e6773223a7b22686f7374223a227373683a2f2f3137322e32372e3138352e3536227d7d/home/MH2/PARSeq/mh_test/test.ipynb#X35sdnNjb2RlLXJlbW90ZQ%3D%3D?line=11'>12</a>\u001b[0m env \u001b[39m=\u001b[39m lmdb\u001b[39m.\u001b[39;49mopen(path_list[\u001b[39m0\u001b[39;49m])\n\u001b[1;32m     <a href='vscode-notebook-cell://attached-container%2B7b22636f6e7461696e65724e616d65223a222f686f6f6e69736f6e6532222c2273657474696e6773223a7b22686f7374223a227373683a2f2f3137322e32372e3138352e3536227d7d/home/MH2/PARSeq/mh_test/test.ipynb#X35sdnNjb2RlLXJlbW90ZQ%3D%3D?line=12'>13</a>\u001b[0m \u001b[39mwith\u001b[39;00m env\u001b[39m.\u001b[39mbegin() \u001b[39mas\u001b[39;00m txn:\n\u001b[1;32m     <a href='vscode-notebook-cell://attached-container%2B7b22636f6e7461696e65724e616d65223a222f686f6f6e69736f6e6532222c2273657474696e6773223a7b22686f7374223a227373683a2f2f3137322e32372e3138352e3536227d7d/home/MH2/PARSeq/mh_test/test.ipynb#X35sdnNjb2RlLXJlbW90ZQ%3D%3D?line=13'>14</a>\u001b[0m     \u001b[39mprint\u001b[39m(\u001b[39mlen\u001b[39m(txn))\n",
      "\u001b[0;31mError\u001b[0m: /home/MH2/PARSeq/mh_test/../dataset/lock.mdb: Not a directory"
     ]
    }
   ],
   "source": []
  },
  {
   "cell_type": "code",
   "execution_count": 15,
   "metadata": {},
   "outputs": [
    {
     "name": "stdout",
     "output_type": "stream",
     "text": [
      "b'891924'\n",
      "b'slinking'\n"
     ]
    },
    {
     "data": {
      "image/jpeg": "[encoded data removed]",
      "image/png": "[encoded data removed]",
      "text/plain": [
       "<PIL.JpegImagePlugin.JpegImageFile image mode=RGB size=130x31>"
      ]
     },
     "execution_count": 15,
     "metadata": {},
     "output_type": "execute_result"
    }
   ],
   "source": [
    "from pathlib import Path\n",
    "import lmdb\n",
    "import io\n",
    "from PIL import Image\n",
    "\n",
    "env = lmdb.open(str(Path(\"./../dataset/train/synth/MJ/test/\").absolute()))\n",
    "# env = lmdb.open(str(Path(\"./../dataset/val/synth/MJ/val/\").absolute()))\n",
    "with env.begin() as txn:\n",
    "    print(txn.get(\"num-samples\".encode()))\n",
    "    print(txn.get(f\"label-{1:09d}\".encode()))\n",
    "    buf = io.BytesIO(txn.get(f\"image-{1:09d}\".encode()))\n",
    "    img = Image.open(buf)\n",
    "\n",
    "img"
   ]
  },
  {
   "cell_type": "code",
   "execution_count": 16,
   "metadata": {},
   "outputs": [
    {
     "data": {
      "text/plain": [
       "10"
      ]
     },
     "execution_count": 16,
     "metadata": {},
     "output_type": "execute_result"
    }
   ],
   "source": [
    "from ray import tune\n",
    "tune.loguniform(1, 10).lower\n",
    "tune.loguniform(1, 10).upper"
   ]
  },
  {
   "cell_type": "code",
   "execution_count": 17,
   "metadata": {},
   "outputs": [
    {
     "data": {
      "text/plain": [
       "array([1.00000000e+01, 1.77827941e+03, 3.16227766e+05, 5.62341325e+07,\n",
       "       1.00000000e+10])"
      ]
     },
     "execution_count": 17,
     "metadata": {},
     "output_type": "execute_result"
    }
   ],
   "source": [
    "import numpy as np\n",
    "np.logspace(1, 10, 5)"
   ]
  },
  {
   "cell_type": "code",
   "execution_count": 18,
   "metadata": {},
   "outputs": [
    {
     "data": {
      "text/plain": [
       "100"
      ]
     },
     "execution_count": 18,
     "metadata": {},
     "output_type": "execute_result"
    }
   ],
   "source": [
    "np.clip(1000, 2, 100)"
   ]
  },
  {
   "cell_type": "code",
   "execution_count": 19,
   "metadata": {},
   "outputs": [
    {
     "name": "stdout",
     "output_type": "stream",
     "text": [
      "Allocated: 0.0 GB Cached: 0.0 GB\n"
     ]
    },
    {
     "name": "stderr",
     "output_type": "stream",
     "text": [
      "/opt/conda/lib/python3.10/site-packages/torch/cuda/memory.py:395: FutureWarning: torch.cuda.memory_cached has been renamed to torch.cuda.memory_reserved\n",
      "  warnings.warn(\n"
     ]
    }
   ],
   "source": [
    "import torch \n",
    "print('Allocated:', round(torch.cuda.memory_allocated(0)/1024**3,1), 'GB', 'Cached:', round(torch.cuda.memory_cached(0)/1024**3,1), 'GB')"
   ]
  },
  {
   "cell_type": "code",
   "execution_count": 20,
   "metadata": {},
   "outputs": [],
   "source": [
    "import torch, gc\n",
    "gc.collect()\n",
    "torch.cuda.empty_cache()"
   ]
  },
  {
   "cell_type": "code",
   "execution_count": 7,
   "metadata": {},
   "outputs": [],
   "source": [
    "from torchvision.transforms.functional import to_pil_image"
   ]
  },
  {
   "cell_type": "code",
   "execution_count": 17,
   "metadata": {},
   "outputs": [
    {
     "name": "stderr",
     "output_type": "stream",
     "text": [
      "Using cache found in /root/.cache/torch/hub/baudm_parseq_main\n"
     ]
    },
    {
     "name": "stdout",
     "output_type": "stream",
     "text": [
      "['/home/MH2/PARSeq/demo_images/번개 문자.jpg', '/home/MH2/PARSeq/demo_images/글자체 다양.jpg', '/home/MH2/PARSeq/demo_images/한글.jpg', '/home/MH2/PARSeq/demo_images/측면 각도 (숫자).jpg', '/home/MH2/PARSeq/demo_images/측면 (영어, 숫자).jpg', '/home/MH2/PARSeq/demo_images/흐림 (영어).png', '/home/MH2/PARSeq/demo_images/흐림2 (영어).png', '/home/MH2/PARSeq/demo_images/곡선 (영어).jpg', '/home/MH2/PARSeq/demo_images/마스킹2 (영어).png', '/home/MH2/PARSeq/demo_images/마스킹1 (영어).png', '/home/MH2/PARSeq/demo_images/마스킹3 (영어).png', '/home/MH2/PARSeq/demo_images/원본.png', '/home/MH2/PARSeq/demo_images/흐림3.jpg', '/home/MH2/PARSeq/demo_images/넓은 이미지.jpg', '/home/MH2/PARSeq/demo_images/흐림4.png', '/home/MH2/PARSeq/demo_images/흐림 5.jpg', '/home/MH2/PARSeq/demo_images/흐림6.jpg', '/home/MH2/PARSeq/demo_images/특수 문자.jpg', '/home/MH2/PARSeq/demo_images/특수 문자2.jpg', '/home/MH2/PARSeq/demo_images/곡선.jpg']\n"
     ]
    },
    {
     "ename": "ValueError",
     "evalue": "not enough values to unpack (expected 4, got 3)",
     "output_type": "error",
     "traceback": [
      "\u001b[0;31m---------------------------------------------------------------------------\u001b[0m",
      "\u001b[0;31mValueError\u001b[0m                                Traceback (most recent call last)",
      "\u001b[1;32m/home/MH2/PARSeq/test.ipynb Cell 35\u001b[0m line \u001b[0;36m4\n\u001b[1;32m     <a href='vscode-notebook-cell://attached-container%2B7b22636f6e7461696e65724e616d65223a222f686f6f6e69736f6e6532222c2273657474696e6773223a7b22686f7374223a227373683a2f2f3137322e32372e3138352e3536227d7d/home/MH2/PARSeq/test.ipynb#Y124sdnNjb2RlLXJlbW90ZQ%3D%3D?line=39'>40</a>\u001b[0m \u001b[39mprint\u001b[39m(x)\n\u001b[1;32m     <a href='vscode-notebook-cell://attached-container%2B7b22636f6e7461696e65724e616d65223a222f686f6f6e69736f6e6532222c2273657474696e6773223a7b22686f7374223a227373683a2f2f3137322e32372e3138352e3536227d7d/home/MH2/PARSeq/test.ipynb#Y124sdnNjb2RlLXJlbW90ZQ%3D%3D?line=40'>41</a>\u001b[0m \u001b[39mfor\u001b[39;00m path \u001b[39min\u001b[39;00m x:\n\u001b[0;32m---> <a href='vscode-notebook-cell://attached-container%2B7b22636f6e7461696e65724e616d65223a222f686f6f6e69736f6e6532222c2273657474696e6773223a7b22686f7374223a227373683a2f2f3137322e32372e3138352e3536227d7d/home/MH2/PARSeq/test.ipynb#Y124sdnNjb2RlLXJlbW90ZQ%3D%3D?line=41'>42</a>\u001b[0m     f(path)\n\u001b[1;32m     <a href='vscode-notebook-cell://attached-container%2B7b22636f6e7461696e65724e616d65223a222f686f6f6e69736f6e6532222c2273657474696e6773223a7b22686f7374223a227373683a2f2f3137322e32372e3138352e3536227d7d/home/MH2/PARSeq/test.ipynb#Y124sdnNjb2RlLXJlbW90ZQ%3D%3D?line=42'>43</a>\u001b[0m \u001b[39m# f(name)\u001b[39;00m\n",
      "\u001b[1;32m/home/MH2/PARSeq/test.ipynb Cell 35\u001b[0m line \u001b[0;36m2\n\u001b[1;32m     <a href='vscode-notebook-cell://attached-container%2B7b22636f6e7461696e65724e616d65223a222f686f6f6e69736f6e6532222c2273657474696e6773223a7b22686f7374223a227373683a2f2f3137322e32372e3138352e3536227d7d/home/MH2/PARSeq/test.ipynb#Y124sdnNjb2RlLXJlbW90ZQ%3D%3D?line=21'>22</a>\u001b[0m img \u001b[39m=\u001b[39m img_transform(img)\n\u001b[1;32m     <a href='vscode-notebook-cell://attached-container%2B7b22636f6e7461696e65724e616d65223a222f686f6f6e69736f6e6532222c2273657474696e6773223a7b22686f7374223a227373683a2f2f3137322e32372e3138352e3536227d7d/home/MH2/PARSeq/test.ipynb#Y124sdnNjb2RlLXJlbW90ZQ%3D%3D?line=23'>24</a>\u001b[0m \u001b[39m# return\u001b[39;00m\n\u001b[1;32m     <a href='vscode-notebook-cell://attached-container%2B7b22636f6e7461696e65724e616d65223a222f686f6f6e69736f6e6532222c2273657474696e6773223a7b22686f7374223a227373683a2f2f3137322e32372e3138352e3536227d7d/home/MH2/PARSeq/test.ipynb#Y124sdnNjb2RlLXJlbW90ZQ%3D%3D?line=24'>25</a>\u001b[0m \u001b[39m# img.show()\u001b[39;00m\n\u001b[0;32m---> <a href='vscode-notebook-cell://attached-container%2B7b22636f6e7461696e65724e616d65223a222f686f6f6e69736f6e6532222c2273657474696e6773223a7b22686f7374223a227373683a2f2f3137322e32372e3138352e3536227d7d/home/MH2/PARSeq/test.ipynb#Y124sdnNjb2RlLXJlbW90ZQ%3D%3D?line=25'>26</a>\u001b[0m logits \u001b[39m=\u001b[39m parseq(img)\n\u001b[1;32m     <a href='vscode-notebook-cell://attached-container%2B7b22636f6e7461696e65724e616d65223a222f686f6f6e69736f6e6532222c2273657474696e6773223a7b22686f7374223a227373683a2f2f3137322e32372e3138352e3536227d7d/home/MH2/PARSeq/test.ipynb#Y124sdnNjb2RlLXJlbW90ZQ%3D%3D?line=26'>27</a>\u001b[0m logits\u001b[39m.\u001b[39mshape  \u001b[39m# torch.Size([1, 26, 95]), 94 characters + [EOS] symbol\u001b[39;00m\n\u001b[1;32m     <a href='vscode-notebook-cell://attached-container%2B7b22636f6e7461696e65724e616d65223a222f686f6f6e69736f6e6532222c2273657474696e6773223a7b22686f7374223a227373683a2f2f3137322e32372e3138352e3536227d7d/home/MH2/PARSeq/test.ipynb#Y124sdnNjb2RlLXJlbW90ZQ%3D%3D?line=27'>28</a>\u001b[0m \u001b[39m# print(f\"logits: {logits}\")\u001b[39;00m\n\u001b[1;32m     <a href='vscode-notebook-cell://attached-container%2B7b22636f6e7461696e65724e616d65223a222f686f6f6e69736f6e6532222c2273657474696e6773223a7b22686f7374223a227373683a2f2f3137322e32372e3138352e3536227d7d/home/MH2/PARSeq/test.ipynb#Y124sdnNjb2RlLXJlbW90ZQ%3D%3D?line=28'>29</a>\u001b[0m \n\u001b[1;32m     <a href='vscode-notebook-cell://attached-container%2B7b22636f6e7461696e65724e616d65223a222f686f6f6e69736f6e6532222c2273657474696e6773223a7b22686f7374223a227373683a2f2f3137322e32372e3138352e3536227d7d/home/MH2/PARSeq/test.ipynb#Y124sdnNjb2RlLXJlbW90ZQ%3D%3D?line=29'>30</a>\u001b[0m \u001b[39m# Greedy decoding\u001b[39;00m\n",
      "File \u001b[0;32m/opt/conda/lib/python3.10/site-packages/torch/nn/modules/module.py:1194\u001b[0m, in \u001b[0;36mModule._call_impl\u001b[0;34m(self, *input, **kwargs)\u001b[0m\n\u001b[1;32m   1190\u001b[0m \u001b[39m# If we don't have any hooks, we want to skip the rest of the logic in\u001b[39;00m\n\u001b[1;32m   1191\u001b[0m \u001b[39m# this function, and just call forward.\u001b[39;00m\n\u001b[1;32m   1192\u001b[0m \u001b[39mif\u001b[39;00m \u001b[39mnot\u001b[39;00m (\u001b[39mself\u001b[39m\u001b[39m.\u001b[39m_backward_hooks \u001b[39mor\u001b[39;00m \u001b[39mself\u001b[39m\u001b[39m.\u001b[39m_forward_hooks \u001b[39mor\u001b[39;00m \u001b[39mself\u001b[39m\u001b[39m.\u001b[39m_forward_pre_hooks \u001b[39mor\u001b[39;00m _global_backward_hooks\n\u001b[1;32m   1193\u001b[0m         \u001b[39mor\u001b[39;00m _global_forward_hooks \u001b[39mor\u001b[39;00m _global_forward_pre_hooks):\n\u001b[0;32m-> 1194\u001b[0m     \u001b[39mreturn\u001b[39;00m forward_call(\u001b[39m*\u001b[39;49m\u001b[39minput\u001b[39;49m, \u001b[39m*\u001b[39;49m\u001b[39m*\u001b[39;49mkwargs)\n\u001b[1;32m   1195\u001b[0m \u001b[39m# Do not call functions when jit is used\u001b[39;00m\n\u001b[1;32m   1196\u001b[0m full_backward_hooks, non_full_backward_hooks \u001b[39m=\u001b[39m [], []\n",
      "File \u001b[0;32m/home/MH2/PARSeq/strhub/models/parseq/system.py:101\u001b[0m, in \u001b[0;36mPARSeq.forward\u001b[0;34m(self, images, max_length)\u001b[0m\n\u001b[1;32m     99\u001b[0m \u001b[39m# +1 for <eos> at end of sequence.\u001b[39;00m\n\u001b[1;32m    100\u001b[0m num_steps \u001b[39m=\u001b[39m max_length \u001b[39m+\u001b[39m \u001b[39m1\u001b[39m\n\u001b[0;32m--> 101\u001b[0m memory \u001b[39m=\u001b[39m \u001b[39mself\u001b[39;49m\u001b[39m.\u001b[39;49mencode(images)\n\u001b[1;32m    103\u001b[0m \u001b[39m# Query positions up to `num_steps`\u001b[39;00m\n\u001b[1;32m    104\u001b[0m pos_queries \u001b[39m=\u001b[39m \u001b[39mself\u001b[39m\u001b[39m.\u001b[39mpos_queries[:, :num_steps]\u001b[39m.\u001b[39mexpand(bs, \u001b[39m-\u001b[39m\u001b[39m1\u001b[39m, \u001b[39m-\u001b[39m\u001b[39m1\u001b[39m)\n",
      "File \u001b[0;32m/home/MH2/PARSeq/strhub/models/parseq/system.py:80\u001b[0m, in \u001b[0;36mPARSeq.encode\u001b[0;34m(self, img)\u001b[0m\n\u001b[1;32m     79\u001b[0m \u001b[39mdef\u001b[39;00m \u001b[39mencode\u001b[39m(\u001b[39mself\u001b[39m, img: torch\u001b[39m.\u001b[39mTensor):\n\u001b[0;32m---> 80\u001b[0m     \u001b[39mreturn\u001b[39;00m \u001b[39mself\u001b[39;49m\u001b[39m.\u001b[39;49mencoder(img)\n",
      "File \u001b[0;32m/opt/conda/lib/python3.10/site-packages/torch/nn/modules/module.py:1194\u001b[0m, in \u001b[0;36mModule._call_impl\u001b[0;34m(self, *input, **kwargs)\u001b[0m\n\u001b[1;32m   1190\u001b[0m \u001b[39m# If we don't have any hooks, we want to skip the rest of the logic in\u001b[39;00m\n\u001b[1;32m   1191\u001b[0m \u001b[39m# this function, and just call forward.\u001b[39;00m\n\u001b[1;32m   1192\u001b[0m \u001b[39mif\u001b[39;00m \u001b[39mnot\u001b[39;00m (\u001b[39mself\u001b[39m\u001b[39m.\u001b[39m_backward_hooks \u001b[39mor\u001b[39;00m \u001b[39mself\u001b[39m\u001b[39m.\u001b[39m_forward_hooks \u001b[39mor\u001b[39;00m \u001b[39mself\u001b[39m\u001b[39m.\u001b[39m_forward_pre_hooks \u001b[39mor\u001b[39;00m _global_backward_hooks\n\u001b[1;32m   1193\u001b[0m         \u001b[39mor\u001b[39;00m _global_forward_hooks \u001b[39mor\u001b[39;00m _global_forward_pre_hooks):\n\u001b[0;32m-> 1194\u001b[0m     \u001b[39mreturn\u001b[39;00m forward_call(\u001b[39m*\u001b[39;49m\u001b[39minput\u001b[39;49m, \u001b[39m*\u001b[39;49m\u001b[39m*\u001b[39;49mkwargs)\n\u001b[1;32m   1195\u001b[0m \u001b[39m# Do not call functions when jit is used\u001b[39;00m\n\u001b[1;32m   1196\u001b[0m full_backward_hooks, non_full_backward_hooks \u001b[39m=\u001b[39m [], []\n",
      "File \u001b[0;32m/home/MH2/PARSeq/strhub/models/parseq/modules.py:115\u001b[0m, in \u001b[0;36mEncoder.forward\u001b[0;34m(self, x)\u001b[0m\n\u001b[1;32m    113\u001b[0m \u001b[39mdef\u001b[39;00m \u001b[39mforward\u001b[39m(\u001b[39mself\u001b[39m, x):\n\u001b[1;32m    114\u001b[0m     \u001b[39m# Return all tokens\u001b[39;00m\n\u001b[0;32m--> 115\u001b[0m     \u001b[39mreturn\u001b[39;00m \u001b[39mself\u001b[39;49m\u001b[39m.\u001b[39;49mforward_features(x)\n",
      "File \u001b[0;32m/opt/conda/lib/python3.10/site-packages/timm/models/vision_transformer.py:613\u001b[0m, in \u001b[0;36mVisionTransformer.forward_features\u001b[0;34m(self, x)\u001b[0m\n\u001b[1;32m    612\u001b[0m \u001b[39mdef\u001b[39;00m \u001b[39mforward_features\u001b[39m(\u001b[39mself\u001b[39m, x):\n\u001b[0;32m--> 613\u001b[0m     x \u001b[39m=\u001b[39m \u001b[39mself\u001b[39;49m\u001b[39m.\u001b[39;49mpatch_embed(x)\n\u001b[1;32m    614\u001b[0m     x \u001b[39m=\u001b[39m \u001b[39mself\u001b[39m\u001b[39m.\u001b[39m_pos_embed(x)\n\u001b[1;32m    615\u001b[0m     x \u001b[39m=\u001b[39m \u001b[39mself\u001b[39m\u001b[39m.\u001b[39mpatch_drop(x)\n",
      "File \u001b[0;32m/opt/conda/lib/python3.10/site-packages/torch/nn/modules/module.py:1194\u001b[0m, in \u001b[0;36mModule._call_impl\u001b[0;34m(self, *input, **kwargs)\u001b[0m\n\u001b[1;32m   1190\u001b[0m \u001b[39m# If we don't have any hooks, we want to skip the rest of the logic in\u001b[39;00m\n\u001b[1;32m   1191\u001b[0m \u001b[39m# this function, and just call forward.\u001b[39;00m\n\u001b[1;32m   1192\u001b[0m \u001b[39mif\u001b[39;00m \u001b[39mnot\u001b[39;00m (\u001b[39mself\u001b[39m\u001b[39m.\u001b[39m_backward_hooks \u001b[39mor\u001b[39;00m \u001b[39mself\u001b[39m\u001b[39m.\u001b[39m_forward_hooks \u001b[39mor\u001b[39;00m \u001b[39mself\u001b[39m\u001b[39m.\u001b[39m_forward_pre_hooks \u001b[39mor\u001b[39;00m _global_backward_hooks\n\u001b[1;32m   1193\u001b[0m         \u001b[39mor\u001b[39;00m _global_forward_hooks \u001b[39mor\u001b[39;00m _global_forward_pre_hooks):\n\u001b[0;32m-> 1194\u001b[0m     \u001b[39mreturn\u001b[39;00m forward_call(\u001b[39m*\u001b[39;49m\u001b[39minput\u001b[39;49m, \u001b[39m*\u001b[39;49m\u001b[39m*\u001b[39;49mkwargs)\n\u001b[1;32m   1195\u001b[0m \u001b[39m# Do not call functions when jit is used\u001b[39;00m\n\u001b[1;32m   1196\u001b[0m full_backward_hooks, non_full_backward_hooks \u001b[39m=\u001b[39m [], []\n",
      "File \u001b[0;32m/opt/conda/lib/python3.10/site-packages/timm/layers/patch_embed.py:66\u001b[0m, in \u001b[0;36mPatchEmbed.forward\u001b[0;34m(self, x)\u001b[0m\n\u001b[1;32m     65\u001b[0m \u001b[39mdef\u001b[39;00m \u001b[39mforward\u001b[39m(\u001b[39mself\u001b[39m, x):\n\u001b[0;32m---> 66\u001b[0m     B, C, H, W \u001b[39m=\u001b[39m x\u001b[39m.\u001b[39mshape\n\u001b[1;32m     67\u001b[0m     \u001b[39mif\u001b[39;00m \u001b[39mself\u001b[39m\u001b[39m.\u001b[39mimg_size \u001b[39mis\u001b[39;00m \u001b[39mnot\u001b[39;00m \u001b[39mNone\u001b[39;00m:\n\u001b[1;32m     68\u001b[0m         \u001b[39mif\u001b[39;00m \u001b[39mself\u001b[39m\u001b[39m.\u001b[39mstrict_img_size:\n",
      "\u001b[0;31mValueError\u001b[0m: not enough values to unpack (expected 4, got 3)"
     ]
    }
   ],
   "source": [
    "import torch\n",
    "from PIL import Image\n",
    "from strhub.data.module import SceneTextDataModule\n",
    "from strhub.models.parseq.system import *\n",
    "from pathlib import Path\n",
    "import glob\n",
    "# Load model and image transforms\n",
    "parseq = torch.hub.load('baudm/parseq', 'parseq', pretrained=True).eval()\n",
    "\n",
    "# path = \"/home/MH2/PARSeq/ray_results/parseq/2023-09-24_11-16-19/train_cc9700f8_1_lr=0.0020_2023-09-24_11-16-25/checkpoint_epoch=7-step=3632/checkpoint\"\n",
    "# x = torch.load(path)\n",
    "# parseq.load_state_dict(x[\"state_dict\"])\n",
    "\n",
    "def f(path):\n",
    "    img_transform = SceneTextDataModule.get_transform(parseq.hparams.img_size)\n",
    "\n",
    "    # img = Image.open('/path/to/image.png').convert('RGB')\n",
    "    # img = Image.open('./demo_images/art-01107.jpg').convert('RGB')/\n",
    "    img = Image.open(path).convert('RGB')\n",
    "    \n",
    "    # img = Image.open('./demo_images/aa.jpg').convert('RGB')\n",
    "    img = img_transform(img).unsqueeze(0)\n",
    "    # img.show()\n",
    "    logits = parseq(img)\n",
    "    logits.shape  # torch.Size([1, 26, 95]), 94 characters + [EOS] symbol\n",
    "    # print(f\"logits: {logits}\")\n",
    "\n",
    "    # Greedy decoding\n",
    "    pred = logits.softmax(-1)\n",
    "\n",
    "    # print(f\"logits: {logits}\")\n",
    "    label, confidence = parseq.tokenizer.decode(pred)\n",
    "    print(f'{path.split(\"/\")[-1]} => {label[0]}')\n",
    "\n",
    "\n",
    "\n",
    "x = glob.glob(str(Path(\"./demo_images\").absolute()/\"**\"))\n",
    "print(x)\n",
    "for path in x:\n",
    "    f(path)\n",
    "# f(name)"
   ]
  },
  {
   "cell_type": "code",
   "execution_count": 17,
   "metadata": {},
   "outputs": [
    {
     "name": "stdout",
     "output_type": "stream",
     "text": [
      "0 /home/MH2/PARSeq/dataset/test/ArT/data.mdb\n",
      "1 /home/MH2/PARSeq/dataset/test/ArT/lock.mdb\n",
      "2 /home/MH2/PARSeq/dataset/test/COCOv1.4/data.mdb\n",
      "3 /home/MH2/PARSeq/dataset/test/COCOv1.4/lock.mdb\n",
      "4 /home/MH2/PARSeq/dataset/test/CUTE80/data.mdb\n",
      "5 /home/MH2/PARSeq/dataset/test/CUTE80/lock.mdb\n",
      "6 /home/MH2/PARSeq/dataset/test/IC13_857/data.mdb\n",
      "7 /home/MH2/PARSeq/dataset/test/IC13_857/lock.mdb\n",
      "8 /home/MH2/PARSeq/dataset/test/IC13_1015/data.mdb\n",
      "9 /home/MH2/PARSeq/dataset/test/IC13_1015/lock.mdb\n",
      "10 /home/MH2/PARSeq/dataset/test/IC13_1095/data.mdb\n",
      "11 /home/MH2/PARSeq/dataset/test/IC13_1095/lock.mdb\n",
      "12 /home/MH2/PARSeq/dataset/test/IC15_1811/data.mdb\n",
      "13 /home/MH2/PARSeq/dataset/test/IC15_1811/lock.mdb\n",
      "14 /home/MH2/PARSeq/dataset/test/IC15_2077/data.mdb\n",
      "15 /home/MH2/PARSeq/dataset/test/IC15_2077/lock.mdb\n",
      "16 /home/MH2/PARSeq/dataset/test/IIIT5k/data.mdb\n",
      "17 /home/MH2/PARSeq/dataset/test/IIIT5k/lock.mdb\n",
      "18 /home/MH2/PARSeq/dataset/test/SVT/data.mdb\n",
      "19 /home/MH2/PARSeq/dataset/test/SVT/lock.mdb\n",
      "20 /home/MH2/PARSeq/dataset/test/SVTP/data.mdb\n",
      "21 /home/MH2/PARSeq/dataset/test/SVTP/lock.mdb\n",
      "22 /home/MH2/PARSeq/dataset/test/Uber/data.mdb\n",
      "23 /home/MH2/PARSeq/dataset/test/Uber/lock.mdb\n",
      "b'288'\n",
      "b'RONALDO'\n"
     ]
    },
    {
     "data": {
      "image/jpeg": "[encoded data removed]",
      "image/png": "[encoded data removed]",
      "text/plain": [
       "<PIL.JpegImagePlugin.JpegImageFile image mode=RGB size=136x50>"
      ]
     },
     "execution_count": 17,
     "metadata": {},
     "output_type": "execute_result"
    }
   ],
   "source": []
  },
  {
   "cell_type": "code",
   "execution_count": null,
   "metadata": {},
   "outputs": [],
   "source": []
  }
 ],
 "metadata": {
  "kernelspec": {
   "display_name": "base",
   "language": "python",
   "name": "python3"
  },
  "language_info": {
   "codemirror_mode": {
    "name": "ipython",
    "version": 3
   },
   "file_extension": ".py",
   "mimetype": "text/x-python",
   "name": "python",
   "nbconvert_exporter": "python",
   "pygments_lexer": "ipython3",
   "version": "3.10.8"
  },
  "orig_nbformat": 4
 },
 "nbformat": 4,
 "nbformat_minor": 2
}
