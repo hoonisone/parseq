{
 "cells": [
  {
   "cell_type": "code",
   "execution_count": 1,
   "metadata": {},
   "outputs": [
    {
     "ename": "AttributeError",
     "evalue": "module 'cv2' has no attribute 'createThinPlateSplineShapeTransformer'",
     "output_type": "error",
     "traceback": [
      "\u001b[0;31m---------------------------------------------------------------------------\u001b[0m",
      "\u001b[0;31mAttributeError\u001b[0m                            Traceback (most recent call last)",
      "\u001b[1;32m/home/MH2/PARSeq/straug_text.ipynb Cell 1\u001b[0m line \u001b[0;36m4\n\u001b[1;32m      <a href='vscode-notebook-cell://attached-container%2B7b22636f6e7461696e65724e616d65223a222f686f6f6e69736f6e652d706172736571227d@ssh-remote%2B172.27.185.56/home/MH2/PARSeq/straug_text.ipynb#W0sdnNjb2RlLXJlbW90ZQ%3D%3D?line=1'>2</a>\u001b[0m \u001b[39mfrom\u001b[39;00m \u001b[39mPIL\u001b[39;00m \u001b[39mimport\u001b[39;00m Image\n\u001b[1;32m      <a href='vscode-notebook-cell://attached-container%2B7b22636f6e7461696e65724e616d65223a222f686f6f6e69736f6e652d706172736571227d@ssh-remote%2B172.27.185.56/home/MH2/PARSeq/straug_text.ipynb#W0sdnNjb2RlLXJlbW90ZQ%3D%3D?line=2'>3</a>\u001b[0m img \u001b[39m=\u001b[39m Image\u001b[39m.\u001b[39mopen(\u001b[39m\"\u001b[39m\u001b[39mdemo_images/내 필통.jpg\u001b[39m\u001b[39m\"\u001b[39m)\n\u001b[0;32m----> <a href='vscode-notebook-cell://attached-container%2B7b22636f6e7461696e65724e616d65223a222f686f6f6e69736f6e652d706172736571227d@ssh-remote%2B172.27.185.56/home/MH2/PARSeq/straug_text.ipynb#W0sdnNjb2RlLXJlbW90ZQ%3D%3D?line=3'>4</a>\u001b[0m img \u001b[39m=\u001b[39m Curve()(img, mag\u001b[39m=\u001b[39m\u001b[39m3\u001b[39m)\n\u001b[1;32m      <a href='vscode-notebook-cell://attached-container%2B7b22636f6e7461696e65724e616d65223a222f686f6f6e69736f6e652d706172736571227d@ssh-remote%2B172.27.185.56/home/MH2/PARSeq/straug_text.ipynb#W0sdnNjb2RlLXJlbW90ZQ%3D%3D?line=4'>5</a>\u001b[0m \u001b[39m# img.save(\"curved_nokia.png\")\u001b[39;00m\n\u001b[1;32m      <a href='vscode-notebook-cell://attached-container%2B7b22636f6e7461696e65724e616d65223a222f686f6f6e69736f6e652d706172736571227d@ssh-remote%2B172.27.185.56/home/MH2/PARSeq/straug_text.ipynb#W0sdnNjb2RlLXJlbW90ZQ%3D%3D?line=5'>6</a>\u001b[0m img\n",
      "File \u001b[0;32m/home/MH2/PARSeq/straug/warp.py:177\u001b[0m, in \u001b[0;36mCurve.__init__\u001b[0;34m(self, square_side, rng)\u001b[0m\n\u001b[1;32m    176\u001b[0m \u001b[39mdef\u001b[39;00m \u001b[39m__init__\u001b[39m(\u001b[39mself\u001b[39m, square_side\u001b[39m=\u001b[39m\u001b[39m224\u001b[39m, rng\u001b[39m=\u001b[39m\u001b[39mNone\u001b[39;00m):\n\u001b[0;32m--> 177\u001b[0m     \u001b[39mself\u001b[39m\u001b[39m.\u001b[39mtps \u001b[39m=\u001b[39m cv2\u001b[39m.\u001b[39;49mcreateThinPlateSplineShapeTransformer()\n\u001b[1;32m    178\u001b[0m     \u001b[39mself\u001b[39m\u001b[39m.\u001b[39mside \u001b[39m=\u001b[39m square_side\n\u001b[1;32m    179\u001b[0m     \u001b[39mself\u001b[39m\u001b[39m.\u001b[39mrng \u001b[39m=\u001b[39m np\u001b[39m.\u001b[39mrandom\u001b[39m.\u001b[39mdefault_rng() \u001b[39mif\u001b[39;00m rng \u001b[39mis\u001b[39;00m \u001b[39mNone\u001b[39;00m \u001b[39melse\u001b[39;00m rng\n",
      "\u001b[0;31mAttributeError\u001b[0m: module 'cv2' has no attribute 'createThinPlateSplineShapeTransformer'"
     ]
    }
   ],
   "source": [
    "from straug.warp import Curve\n",
    "from PIL import Image\n",
    "img = Image.open(\"demo_images/내 필통.jpg\")\n",
    "img = Curve()(img, mag=3)\n",
    "# img.save(\"curved_nokia.png\")\n",
    "img"
   ]
  },
  {
   "cell_type": "code",
   "execution_count": 2,
   "metadata": {},
   "outputs": [],
   "source": [
    "import cv2"
   ]
  },
  {
   "cell_type": "code",
   "execution_count": 9,
   "metadata": {},
   "outputs": [],
   "source": [
    "import argparse\n",
    "import os\n",
    "import numpy as np\n",
    "from PIL import Image\n",
    "import cv2"
   ]
  },
  {
   "cell_type": "code",
   "execution_count": 1,
   "metadata": {},
   "outputs": [
    {
     "name": "stderr",
     "output_type": "stream",
     "text": [
      "/opt/conda/lib/python3.10/site-packages/tqdm/auto.py:21: TqdmWarning: IProgress not found. Please update jupyter and ipywidgets. See https://ipywidgets.readthedocs.io/en/stable/user_install.html\n",
      "  from .autonotebook import tqdm as notebook_tqdm\n"
     ]
    },
    {
     "data": {
      "text/plain": [
       "True"
      ]
     },
     "execution_count": 1,
     "metadata": {},
     "output_type": "execute_result"
    }
   ],
   "source": [
    "import torch\n",
    "torch.cuda.is_available()"
   ]
  },
  {
   "cell_type": "code",
   "execution_count": 6,
   "metadata": {},
   "outputs": [],
   "source": [
    "from straug.warp import Curve, Distort, Stretch\n",
    "from straug.geometry import Rotate, Perspective, Shrink, TranslateX, TranslateY\n",
    "from straug.blur import GaussianBlur, DefocusBlur, MotionBlur, GlassBlur, ZoomBlur\n",
    "from straug.camera import Contrast, Brightness, JpegCompression, Pixelate\n",
    "from straug.noise import GaussianNoise, ShotNoise, ImpulseNoise, SpeckleNoise\n",
    "from straug.pattern import VGrid, HGrid, Grid, RectGrid, EllipseGrid\n",
    "from straug.process import Posterize, Solarize, Invert, Equalize, AutoContrast, Sharpness, Color\n",
    "from straug.weather import Fog, Snow, Frost, Rain, Shadow"
   ]
  },
  {
   "cell_type": "code",
   "execution_count": 7,
   "metadata": {},
   "outputs": [],
   "source": [
    "class Random_StrAug(object):\n",
    "    def __init__(self, using_aug_types, prob_list = None):\n",
    "        self.aug_list = []\n",
    "        if 'warp' in using_aug_types :\n",
    "            self.aug_list.append([Curve(), Distort(), Stretch()]) \n",
    "        if 'geometry' in using_aug_types :\n",
    "            self.aug_list.append([Rotate(), Perspective(), Shrink(), TranslateX(), TranslateY()]) \n",
    "        if 'blur' in using_aug_types :\n",
    "            self.aug_list.append([GaussianBlur(), DefocusBlur(), MotionBlur(), GlassBlur(), ZoomBlur()]) \n",
    "        if 'noise' in using_aug_types :\n",
    "            self.aug_list.append([GaussianNoise(), ShotNoise(), ImpulseNoise(), SpeckleNoise()]) \n",
    "        if 'camera' in using_aug_types :\n",
    "            self.aug_list.append([Contrast(), Brightness(), JpegCompression(), Pixelate()]) \n",
    "        if 'pattern' in using_aug_types :\n",
    "            self.aug_list.append([VGrid(), HGrid(), Grid(), RectGrid(), EllipseGrid()]) \n",
    "        if 'process' in using_aug_types :\n",
    "            self.aug_list.append([Posterize(), Solarize(), Invert(), Equalize(), AutoContrast(), Sharpness(), Color()]) \n",
    "        if 'weather' in using_aug_types :\n",
    "            self.aug_list.append([Fog(), Snow(), Frost(), Rain(), Shadow()]) \n",
    "    \n",
    "        self.mag_range = np.random.randint(-1, 3)\n",
    "        if prob_list is None :\n",
    "            self.prob_list = [0.5] * len(self.aug_list)\n",
    "        else:\n",
    "            assert len(self.aug_list) == len(prob_list), \"The length of 'prob_list' must be the same as the number of augmentations used.\"\n",
    "            self.prob_list = prob_list\n",
    "\n",
    "    def __call__(self, img):\n",
    "        for i in range(len(self.aug_list)):\n",
    "            img = self.aug_list[i][np.random.randint(0, len(self.aug_list[i]))](img, mag = self.mag_range, prob = self.prob_list[i])\n",
    "\n",
    "        return img\n",
    "    \n"
   ]
  },
  {
   "cell_type": "code",
   "execution_count": null,
   "metadata": {},
   "outputs": [],
   "source": []
  },
  {
   "cell_type": "code",
   "execution_count": 8,
   "metadata": {},
   "outputs": [
    {
     "ename": "AttributeError",
     "evalue": "module 'cv2' has no attribute 'createThinPlateSplineShapeTransformer'",
     "output_type": "error",
     "traceback": [
      "\u001b[0;31m---------------------------------------------------------------------------\u001b[0m",
      "\u001b[0;31mAttributeError\u001b[0m                            Traceback (most recent call last)",
      "\u001b[1;32m/home/MH2/PARSeq/straug_text.ipynb Cell 4\u001b[0m line \u001b[0;36m2\n\u001b[1;32m      <a href='vscode-notebook-cell://attached-container%2B7b22636f6e7461696e65724e616d65223a222f686f6f6e69736f6e6532227d@ssh-remote%2B172.27.185.56/home/MH2/PARSeq/straug_text.ipynb#W3sdnNjb2RlLXJlbW90ZQ%3D%3D?line=0'>1</a>\u001b[0m \u001b[39mif\u001b[39;00m \u001b[39m__name__\u001b[39m \u001b[39m==\u001b[39m \u001b[39m'\u001b[39m\u001b[39m__main__\u001b[39m\u001b[39m'\u001b[39m:\n\u001b[0;32m----> <a href='vscode-notebook-cell://attached-container%2B7b22636f6e7461696e65724e616d65223a222f686f6f6e69736f6e6532227d@ssh-remote%2B172.27.185.56/home/MH2/PARSeq/straug_text.ipynb#W3sdnNjb2RlLXJlbW90ZQ%3D%3D?line=1'>2</a>\u001b[0m     random_StrAug_1 \u001b[39m=\u001b[39m Random_StrAug(using_aug_types \u001b[39m=\u001b[39;49m [\u001b[39m'\u001b[39;49m\u001b[39mwarp\u001b[39;49m\u001b[39m'\u001b[39;49m, \u001b[39m'\u001b[39;49m\u001b[39mgeometry\u001b[39;49m\u001b[39m'\u001b[39;49m, \u001b[39m'\u001b[39;49m\u001b[39mblur\u001b[39;49m\u001b[39m'\u001b[39;49m, \u001b[39m'\u001b[39;49m\u001b[39mnoise\u001b[39;49m\u001b[39m'\u001b[39;49m, \u001b[39m'\u001b[39;49m\u001b[39mcamera\u001b[39;49m\u001b[39m'\u001b[39;49m, \u001b[39m'\u001b[39;49m\u001b[39mpattern\u001b[39;49m\u001b[39m'\u001b[39;49m, \u001b[39m'\u001b[39;49m\u001b[39mprocess\u001b[39;49m\u001b[39m'\u001b[39;49m, \u001b[39m'\u001b[39;49m\u001b[39mweather\u001b[39;49m\u001b[39m'\u001b[39;49m],\n\u001b[1;32m      <a href='vscode-notebook-cell://attached-container%2B7b22636f6e7461696e65724e616d65223a222f686f6f6e69736f6e6532227d@ssh-remote%2B172.27.185.56/home/MH2/PARSeq/straug_text.ipynb#W3sdnNjb2RlLXJlbW90ZQ%3D%3D?line=2'>3</a>\u001b[0m                                   prob_list \u001b[39m=\u001b[39;49m [\u001b[39m0.5\u001b[39;49m, \u001b[39m0.3\u001b[39;49m, \u001b[39m0.3\u001b[39;49m, \u001b[39m0.2\u001b[39;49m, \u001b[39m0.2\u001b[39;49m, \u001b[39m0.1\u001b[39;49m, \u001b[39m0.1\u001b[39;49m, \u001b[39m0.1\u001b[39;49m])\n\u001b[1;32m      <a href='vscode-notebook-cell://attached-container%2B7b22636f6e7461696e65724e616d65223a222f686f6f6e69736f6e6532227d@ssh-remote%2B172.27.185.56/home/MH2/PARSeq/straug_text.ipynb#W3sdnNjb2RlLXJlbW90ZQ%3D%3D?line=4'>5</a>\u001b[0m     random_StrAug_2 \u001b[39m=\u001b[39m Random_StrAug(using_aug_types \u001b[39m=\u001b[39m [\u001b[39m'\u001b[39m\u001b[39mwarp\u001b[39m\u001b[39m'\u001b[39m, \u001b[39m'\u001b[39m\u001b[39mpattern\u001b[39m\u001b[39m'\u001b[39m, \u001b[39m'\u001b[39m\u001b[39mprocess\u001b[39m\u001b[39m'\u001b[39m, \u001b[39m'\u001b[39m\u001b[39mweather\u001b[39m\u001b[39m'\u001b[39m],\n\u001b[1;32m      <a href='vscode-notebook-cell://attached-container%2B7b22636f6e7461696e65724e616d65223a222f686f6f6e69736f6e6532227d@ssh-remote%2B172.27.185.56/home/MH2/PARSeq/straug_text.ipynb#W3sdnNjb2RlLXJlbW90ZQ%3D%3D?line=5'>6</a>\u001b[0m                                   prob_list \u001b[39m=\u001b[39m [\u001b[39m0.5\u001b[39m, \u001b[39m0.3\u001b[39m, \u001b[39m0.2\u001b[39m, \u001b[39m0.5\u001b[39m])\n\u001b[1;32m      <a href='vscode-notebook-cell://attached-container%2B7b22636f6e7461696e65724e616d65223a222f686f6f6e69736f6e6532227d@ssh-remote%2B172.27.185.56/home/MH2/PARSeq/straug_text.ipynb#W3sdnNjb2RlLXJlbW90ZQ%3D%3D?line=8'>9</a>\u001b[0m     parser \u001b[39m=\u001b[39m argparse\u001b[39m.\u001b[39mArgumentParser()\n",
      "\u001b[1;32m/home/MH2/PARSeq/straug_text.ipynb Cell 4\u001b[0m line \u001b[0;36m5\n\u001b[1;32m      <a href='vscode-notebook-cell://attached-container%2B7b22636f6e7461696e65724e616d65223a222f686f6f6e69736f6e6532227d@ssh-remote%2B172.27.185.56/home/MH2/PARSeq/straug_text.ipynb#W3sdnNjb2RlLXJlbW90ZQ%3D%3D?line=2'>3</a>\u001b[0m \u001b[39mself\u001b[39m\u001b[39m.\u001b[39maug_list \u001b[39m=\u001b[39m []\n\u001b[1;32m      <a href='vscode-notebook-cell://attached-container%2B7b22636f6e7461696e65724e616d65223a222f686f6f6e69736f6e6532227d@ssh-remote%2B172.27.185.56/home/MH2/PARSeq/straug_text.ipynb#W3sdnNjb2RlLXJlbW90ZQ%3D%3D?line=3'>4</a>\u001b[0m \u001b[39mif\u001b[39;00m \u001b[39m'\u001b[39m\u001b[39mwarp\u001b[39m\u001b[39m'\u001b[39m \u001b[39min\u001b[39;00m using_aug_types :\n\u001b[0;32m----> <a href='vscode-notebook-cell://attached-container%2B7b22636f6e7461696e65724e616d65223a222f686f6f6e69736f6e6532227d@ssh-remote%2B172.27.185.56/home/MH2/PARSeq/straug_text.ipynb#W3sdnNjb2RlLXJlbW90ZQ%3D%3D?line=4'>5</a>\u001b[0m     \u001b[39mself\u001b[39m\u001b[39m.\u001b[39maug_list\u001b[39m.\u001b[39mappend([Curve(), Distort(), Stretch()]) \n\u001b[1;32m      <a href='vscode-notebook-cell://attached-container%2B7b22636f6e7461696e65724e616d65223a222f686f6f6e69736f6e6532227d@ssh-remote%2B172.27.185.56/home/MH2/PARSeq/straug_text.ipynb#W3sdnNjb2RlLXJlbW90ZQ%3D%3D?line=5'>6</a>\u001b[0m \u001b[39mif\u001b[39;00m \u001b[39m'\u001b[39m\u001b[39mgeometry\u001b[39m\u001b[39m'\u001b[39m \u001b[39min\u001b[39;00m using_aug_types :\n\u001b[1;32m      <a href='vscode-notebook-cell://attached-container%2B7b22636f6e7461696e65724e616d65223a222f686f6f6e69736f6e6532227d@ssh-remote%2B172.27.185.56/home/MH2/PARSeq/straug_text.ipynb#W3sdnNjb2RlLXJlbW90ZQ%3D%3D?line=6'>7</a>\u001b[0m     \u001b[39mself\u001b[39m\u001b[39m.\u001b[39maug_list\u001b[39m.\u001b[39mappend([Rotate(), Perspective(), Shrink(), TranslateX(), TranslateY()]) \n",
      "File \u001b[0;32m/opt/conda/lib/python3.10/site-packages/straug/warp.py:177\u001b[0m, in \u001b[0;36mCurve.__init__\u001b[0;34m(self, square_side, rng)\u001b[0m\n\u001b[1;32m    176\u001b[0m \u001b[39mdef\u001b[39;00m \u001b[39m__init__\u001b[39m(\u001b[39mself\u001b[39m, square_side\u001b[39m=\u001b[39m\u001b[39m224\u001b[39m, rng\u001b[39m=\u001b[39m\u001b[39mNone\u001b[39;00m):\n\u001b[0;32m--> 177\u001b[0m     \u001b[39mself\u001b[39m\u001b[39m.\u001b[39mtps \u001b[39m=\u001b[39m cv2\u001b[39m.\u001b[39;49mcreateThinPlateSplineShapeTransformer()\n\u001b[1;32m    178\u001b[0m     \u001b[39mself\u001b[39m\u001b[39m.\u001b[39mside \u001b[39m=\u001b[39m square_side\n\u001b[1;32m    179\u001b[0m     \u001b[39mself\u001b[39m\u001b[39m.\u001b[39mrng \u001b[39m=\u001b[39m np\u001b[39m.\u001b[39mrandom\u001b[39m.\u001b[39mdefault_rng() \u001b[39mif\u001b[39;00m rng \u001b[39mis\u001b[39;00m \u001b[39mNone\u001b[39;00m \u001b[39melse\u001b[39;00m rng\n",
      "\u001b[0;31mAttributeError\u001b[0m: module 'cv2' has no attribute 'createThinPlateSplineShapeTransformer'"
     ]
    }
   ],
   "source": [
    "if __name__ == '__main__':\n",
    "    random_StrAug_1 = Random_StrAug(using_aug_types = ['warp', 'geometry', 'blur', 'noise', 'camera', 'pattern', 'process', 'weather'],\n",
    "                                  prob_list = [0.5, 0.3, 0.3, 0.2, 0.2, 0.1, 0.1, 0.1])\n",
    "    \n",
    "    random_StrAug_2 = Random_StrAug(using_aug_types = ['warp', 'pattern', 'process', 'weather'],\n",
    "                                  prob_list = [0.5, 0.3, 0.2, 0.5])\n",
    "    \n",
    "    \n",
    "    parser = argparse.ArgumentParser()\n",
    "    parser.add_argument('--image', default=\"images/delivery.png\", help='Load image file')\n",
    "    parser.add_argument('--results', default=\"results\", help='Folder for augmented image files')\n",
    "    parser.add_argument('--gray', action='store_true', help='Convert to grayscale 1st')\n",
    "    parser.add_argument('--width', default=200, type=int, help='Default image width')\n",
    "    parser.add_argument('--height', default=64, type=int, help='Default image height')\n",
    "    parser.add_argument('--seed', default=0, type=int, help='Random number generator seed')\n",
    "    opt = parser.parse_args()\n",
    "    os.makedirs(opt.results, exist_ok=True)\n",
    "\n",
    "    img = Image.open(opt.image)\n",
    "    img = img.resize((opt.width, opt.height))\n",
    "\n",
    "    augmented_img_1 = random_StrAug_1(img)\n",
    "    augmented_img_2 = random_StrAug_2(img)\n",
    "\n",
    "    # Save images to compare before and after augmentation.\n",
    "    result = cv2.cvtColor(np.hstack((np.array(img), np.array(augmented_img_1), np.array(augmented_img_2))), cv2.COLOR_RGB2BGR)\n",
    "    cv2.imwrite(os.path.join(opt.results, opt.image.split('/')[-1].split('.')[0] + '_random_strAug.jpg'), result)"
   ]
  },
  {
   "cell_type": "code",
   "execution_count": null,
   "metadata": {},
   "outputs": [],
   "source": []
  }
 ],
 "metadata": {
  "kernelspec": {
   "display_name": "base",
   "language": "python",
   "name": "python3"
  },
  "language_info": {
   "codemirror_mode": {
    "name": "ipython",
    "version": 3
   },
   "file_extension": ".py",
   "mimetype": "text/x-python",
   "name": "python",
   "nbconvert_exporter": "python",
   "pygments_lexer": "ipython3",
   "version": "3.10.8"
  }
 },
 "nbformat": 4,
 "nbformat_minor": 2
}
